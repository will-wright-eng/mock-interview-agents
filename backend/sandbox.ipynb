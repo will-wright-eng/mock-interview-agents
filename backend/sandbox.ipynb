{
 "cells": [
  {
   "cell_type": "code",
   "execution_count": 2,
   "metadata": {},
   "outputs": [
    {
     "name": "stdout",
     "output_type": "stream",
     "text": [
      "\u001b[33mWARNING: You are using pip version 21.2.4; however, version 24.1.2 is available.\n",
      "You should consider upgrading via the '/Users/jonathantalmi/.pyenv/versions/3.10.1/bin/python3.10 -m pip install --upgrade pip' command.\u001b[0m\n"
     ]
    }
   ],
   "source": [
    "!pip install vapi_python -q"
   ]
  },
  {
   "cell_type": "code",
   "execution_count": 3,
   "metadata": {},
   "outputs": [],
   "source": [
    "from vapi_python import Vapi"
   ]
  },
  {
   "cell_type": "code",
   "execution_count": 4,
   "metadata": {},
   "outputs": [],
   "source": [
    "api_key = \"ba5d2083-8501-4af5-8e57-7d48456ad979\"\n",
    "private_api_key = \"72350235-1452-427e-b987-b7b96766a777\"\n",
    "assistant_id = \"d79b1e69-46bb-4ac3-983c-e3efd9a40269\""
   ]
  },
  {
   "cell_type": "code",
   "execution_count": 5,
   "metadata": {},
   "outputs": [
    {
     "name": "stdout",
     "output_type": "stream",
     "text": [
      "Joining call... 6230d0cd-c8ff-4f30-b07b-686adec8946d\n"
     ]
    },
    {
     "name": "stdout",
     "output_type": "stream",
     "text": [
      "Joined call!\n"
     ]
    }
   ],
   "source": [
    "vapi = Vapi(api_key=api_key)\n",
    "vapi.start(assistant_id=assistant_id)"
   ]
  },
  {
   "cell_type": "code",
   "execution_count": 6,
   "metadata": {},
   "outputs": [],
   "source": [
    "vapi.stop()"
   ]
  },
  {
   "cell_type": "code",
   "execution_count": 13,
   "metadata": {},
   "outputs": [
    {
     "data": {
      "text/plain": [
       "\"AI: Hi. Thanks for taking the time to meet with me today. How are you doing?\\nUser: Doing well. How are you?\\nAI: I'm doing great. Thank you for asking. Let's start by having you tell me a bit about yourself, and your background. What led you to apply for a role at Open AI? And what makes you interested? This particular position?\\nUser: Um, well, I think OpenAI is, like, a super cool, really popular company. And it's like the top AI company around. So yeah, I just really wanna work at, like, the top company.\\nAI: That's great to hear.\\nUser: To hear.\\nAI: Working yes. OpenAI is definitely at the cutting edge of AI research. Deployment. Now I'd like to know more about your background and experience. Could you tell me about your relevant engineering experience and how it aligns with the requirements, of the role at Open\\nUser: No. No. No. No. Because before so this is really cool. Before, uh, how do I Stop.\\nAI: No worries.\\nUser: I was gonna say you should do you should alternate between really good answers and really bad answers.\\n\""
      ]
     },
     "execution_count": 13,
     "metadata": {},
     "output_type": "execute_result"
    }
   ],
   "source": [
    "import requests\n",
    "from pprint import pprint \n",
    "\n",
    "call_id = \"c23ee1ec-41bf-4f1c-9900-f764133c02f5\"\n",
    "url = f\"https://api.vapi.ai/call/{call_id}\"\n",
    "headers = {\"Authorization\": f\"Bearer {private_api_key}\"}\n",
    "res = requests.request(\"GET\", url, headers=headers)\n",
    "res.raise_for_status()\n",
    "data = res.json()\n",
    "pprint(data)\n"
   ]
  },
  {
   "cell_type": "code",
   "execution_count": 15,
   "metadata": {},
   "outputs": [
    {
     "name": "stdout",
     "output_type": "stream",
     "text": [
      "AI: Hi. Thanks for taking the time to meet with me today. How are you doing?\n",
      "User: Doing well. How are you?\n",
      "AI: I'm doing great. Thank you for asking. Let's start by having you tell me a bit about yourself, and your background. What led you to apply for a role at Open AI? And what makes you interested? This particular position?\n",
      "User: Um, well, I think OpenAI is, like, a super cool, really popular company. And it's like the top AI company around. So yeah, I just really wanna work at, like, the top company.\n",
      "AI: That's great to hear.\n",
      "User: To hear.\n",
      "AI: Working yes. OpenAI is definitely at the cutting edge of AI research. Deployment. Now I'd like to know more about your background and experience. Could you tell me about your relevant engineering experience and how it aligns with the requirements, of the role at Open\n",
      "User: No. No. No. No. Because before so this is really cool. Before, uh, how do I Stop.\n",
      "AI: No worries.\n",
      "User: I was gonna say you should do you should alternate between really good answers and really bad answers.\n",
      "\n"
     ]
    }
   ],
   "source": [
    "print(data['transcript'])"
   ]
  },
  {
   "cell_type": "code",
   "execution_count": null,
   "metadata": {},
   "outputs": [],
   "source": []
  }
 ],
 "metadata": {
  "kernelspec": {
   "display_name": "Python 3",
   "language": "python",
   "name": "python3"
  },
  "language_info": {
   "codemirror_mode": {
    "name": "ipython",
    "version": 3
   },
   "file_extension": ".py",
   "mimetype": "text/x-python",
   "name": "python",
   "nbconvert_exporter": "python",
   "pygments_lexer": "ipython3",
   "version": "3.10.1"
  }
 },
 "nbformat": 4,
 "nbformat_minor": 2
}
