{
 "cells": [
  {
   "cell_type": "code",
   "execution_count": 2,
   "metadata": {},
   "outputs": [
    {
     "name": "stdout",
     "output_type": "stream",
     "text": [
      "\u001b[33mWARNING: You are using pip version 21.2.4; however, version 24.1.2 is available.\n",
      "You should consider upgrading via the '/Users/jonathantalmi/.pyenv/versions/3.10.1/bin/python3.10 -m pip install --upgrade pip' command.\u001b[0m\n"
     ]
    }
   ],
   "source": [
    "!pip install vapi_python -q"
   ]
  },
  {
   "cell_type": "code",
   "execution_count": 3,
   "metadata": {},
   "outputs": [],
   "source": [
    "from vapi_python import Vapi"
   ]
  },
  {
   "cell_type": "code",
   "execution_count": 4,
   "metadata": {},
   "outputs": [],
   "source": [
    "api_key = \"ba5d2083-8501-4af5-8e57-7d48456ad979\"\n",
    "private_api_key = \"72350235-1452-427e-b987-b7b96766a777\"\n",
    "assistant_id = \"d79b1e69-46bb-4ac3-983c-e3efd9a40269\""
   ]
  },
  {
   "cell_type": "code",
   "execution_count": null,
   "metadata": {},
   "outputs": [],
   "source": [
    "company = \"Groq\"\n",
    "role = \"Software Engineer, Developer Experience\"\n",
    "job_description = \"\"\"\n",
    "Software Engineer, Developer Experience\n",
    "Palo Alto, CA\n",
    "\n",
    "At Groq. We believe in an AI economy powered by human agency. We envision a world where AI is accessible to all, a world that demands processing power that is better, faster, and more affordable than is available today. AI applications are currently constrained by the limitations of the Graphics Processing Unit (GPU), a technology originally developed for the gaming market and soon to become the weakest link in the AI economy.\n",
    "\n",
    "Enter Groq's LPU™ Inference Engine. Specifically engineered for the demands of large language models (LLMs), the Language Processing Unit outpaces the GPU in speed, power, efficiency, and cost-effectiveness. The quickest way to understand the opportunity is to watch the following talk – groq.link/scspdemo.\n",
    "\n",
    "Why join Groq? AI will change humanity forever, and we believe preservation of human agency and self determination is only possible if AI is made affordably and universally accessible. Groq’s LPUs will power AI from an early stage, and you will get to leave your fingerprint on civilization.\n",
    "\n",
    "Software Engineer, Developer Experience\n",
    "\n",
    "Mission: ship code daily to improve the suite of APIs that >200k developers use to build fast AI applications.\n",
    "\n",
    "Responsibilities & opportunities in this role:\n",
    "\n",
    "Software Development: Write simple, concise, high-performance code for both our apis written in Golang and our webapp in Next.js.\n",
    "System Optimization: Performance is everything at Groq. We have dedicated performance teams, but all engineers need to focus on where the milliseconds are spent.\n",
    "Attention to Detail: Uphold a high standard for code quality and user experience. While building great new functionality, also take pride in making error messages clearer and more actionable.\n",
    "Sample Projects\n",
    "Function Calling and Tool Use - Add tool use capabilities to our inference apis and add support for new models we bring on board\n",
    "Self Serve Billing - Build out the ability for developers to create accounts and sign up to our self serve billing tier\n",
    "Batch Jobs - Build out a mechanism for developers to submit batch jobs that run inference workloads asynchronously when capacity isn’t full.\n",
    "Ideal candidates have/are:\n",
    "\n",
    "Curiosity: Genuine interest in AI and how Language models are enabling new use cases across a variety of industries\n",
    "Self-Driven: Ability to see projects through end-to-end independently.\n",
    "Bias to Action: Make decisions and ship code. You shouldn’t like meetings.\n",
    "Attributes of a Groqster:\n",
    "\n",
    "Humility - Egos are checked at the door\n",
    "Collaborative & Team Savvy - We make up the smartest person in the room, together\n",
    "Growth & Giver Mindset - Learn it all versus know it all, we share knowledge generously\n",
    "Curious & Innovative - Take a creative approach to projects, problems, and design\n",
    "Passion, Grit, & Boldness - no limit thinking, fueling informed risk taking\n",
    "If this sounds like you, we’d love to hear from you!\n",
    "\n",
    "Compensation: At Groq, a competitive base salary is part of our comprehensive compensation package, which includes equity and benefits. For this role, the base salary range is $145,400 to $276,500, determined by your skills, qualifications, experience and internal benchmarks.\n",
    "\n",
    "Location: Groq is a geo-agnostic company, meaning you work where you are. Exceptional candidates will thrive in asynchronous partnerships and remote collaboration methods. Some roles may require being located near our primary sites, as indicated in the job description.  \n",
    "\n",
    "At Groq: Our goal is to hire and promote an exceptional workforce as diverse as the global populations we serve. Groq is an equal opportunity employer committed to diversity, inclusion, and belonging in all aspects of our organization. We value and celebrate diversity in thought, beliefs, talent, expression, and backgrounds. We know that our individual differences make us better.\n",
    "\"\"\"\n",
    "\n",
    "question_bank = \"\"\"\n",
    "Here are the 7 behavioral interview questions, grading criteria, and overall rubric tailored to the Software Engineer, Developer Experience position at Groq:\n",
    "\n",
    "**Questions:**\n",
    "\n",
    "1. Can you describe a project you worked on where you had to optimize the performance of a complex system? What steps did you take to identify bottlenecks, and how did you measure the impact of your changes?\n",
    "\n",
    "Grading Criteria:\n",
    "- Key points: Description of the project, identification of bottlenecks, steps taken to optimize performance, measurement of impact\n",
    "- Skills/qualities to demonstrate: Problem-solving, analytical thinking, attention to detail, ability to measure and evaluate performance\n",
    "- Scoring:\n",
    "  5 - Excellent: Provides a clear, concise description of the project and optimization process, including metrics to measure impact\n",
    "  4 - Good: Provides a good description of the project, but lacks detail on optimization steps or metrics\n",
    "  3 - Average: Provides a general overview of the project, but lacks specific examples or metrics\n",
    "  2 - Below Average: Struggles to describe the project or optimization process, lacks any metrics or measurement of impact\n",
    "  1 - Poor: Fails to describe the project or optimization process\n",
    "\n",
    "2. Tell me about a time when you had to work on a team to develop a new feature or API. What was your role in the project, and how did you contribute to its success?\n",
    "\n",
    "Grading Criteria:\n",
    "- Key points: Description of the project, role in the project, contributions to success\n",
    "- Skills/qualities to demonstrate: Teamwork, collaboration, communication, ability to contribute to a team effort\n",
    "- Scoring:\n",
    "  5 - Excellent: Provides a clear, concise description of the project and their role, including specific examples of contributions to success\n",
    "  4 - Good: Provides a good description of the project and their role, but lacks specific examples of contributions\n",
    "  3 - Average: Provides a general overview of the project, but lacks detail on their role or contributions\n",
    "  2 - Below Average: Struggles to describe the project or their role, lacks any examples of contributions\n",
    "  1 - Poor: Fails to describe the project or their role\n",
    "\n",
    "3. How do you approach debugging complex issues in your code? Can you walk me through your thought process and the steps you take to identify and fix the issue?\n",
    "\n",
    "Grading Criteria:\n",
    "- Key points: Description of debugging process, thought process, steps taken to identify and fix the issue\n",
    "- Skills/qualities to demonstrate: Problem-solving, analytical thinking, attention to detail, ability to debug complex issues\n",
    "- Scoring:\n",
    "  5 - Excellent: Provides a clear, concise description of their debugging process, including specific examples of thought process and steps taken\n",
    "  4 - Good: Provides a good description of their debugging process, but lacks specific examples or detail\n",
    "  3 - Average: Provides a general overview of their debugging process, but lacks specific examples or detail\n",
    "  2 - Below Average: Struggles to describe their debugging process, lacks any specific examples or detail\n",
    "  1 - Poor: Fails to describe their debugging process\n",
    "\n",
    "4. Can you describe a project or feature you worked on that required you to balance competing priorities, such as performance, security, and user experience? How did you approach this project, and what was the outcome?\n",
    "\n",
    "Grading Criteria:\n",
    "- Key points: Description of the project, competing priorities, approach to balancing priorities, outcome\n",
    "- Skills/qualities to demonstrate: Problem-solving, analytical thinking, ability to balance competing priorities, attention to detail\n",
    "- Scoring:\n",
    "  5 - Excellent: Provides a clear, concise description of the project and their approach, including specific examples of balancing competing priorities\n",
    "  4 - Good: Provides a good description of the project and their approach, but lacks specific examples or detail\n",
    "  3 - Average: Provides a general overview of the project, but lacks detail on their approach or outcome\n",
    "  2 - Below Average: Struggles to describe the project or their approach, lacks any specific examples or detail\n",
    "  1 - Poor: Fails to describe the project or their approach\n",
    "\n",
    "5. Tell me about a time when you had to make a decision quickly, without having all the information. What was the decision, and how did you approach making it?\n",
    "\n",
    "Grading Criteria:\n",
    "- Key points: Description of the situation, decision made, approach to making the decision\n",
    "- Skills/qualities to demonstrate: Decision-making, ability to act quickly, analytical thinking\n",
    "- Scoring:\n",
    "  5 - Excellent: Provides a clear, concise description of the situation and decision made, including specific examples of their thought process\n",
    "  4 - Good: Provides a good description of the situation and decision made, but lacks specific examples or detail\n",
    "  3 - Average: Provides a general overview of the situation, but lacks detail on their approach or thought process\n",
    "  2 - Below Average: Struggles to describe the situation or decision made, lacks any specific examples\n",
    "\n",
    "\"\"\"\n",
    "\n",
    "overrides = {\n",
    "    \"variableValues\": {\n",
    "        \"jobDescription\": job_description,\n",
    "        \"jobName\": role,\n",
    "        \"companyName\": company,\n",
    "        \"QuestionBank\": question_bank\n",
    "    } \n",
    "}"
   ]
  },
  {
   "cell_type": "code",
   "execution_count": 5,
   "metadata": {},
   "outputs": [
    {
     "name": "stdout",
     "output_type": "stream",
     "text": [
      "Joining call... 6230d0cd-c8ff-4f30-b07b-686adec8946d\n"
     ]
    },
    {
     "name": "stdout",
     "output_type": "stream",
     "text": [
      "Joined call!\n"
     ]
    }
   ],
   "source": [
    "vapi = Vapi(api_key=api_key)\n",
    "vapi.start(assistant_id=assistant_id, assistantOverrides=overrides)"
   ]
  },
  {
   "cell_type": "code",
   "execution_count": 6,
   "metadata": {},
   "outputs": [],
   "source": [
    "vapi.stop()"
   ]
  },
  {
   "cell_type": "code",
   "execution_count": 13,
   "metadata": {},
   "outputs": [
    {
     "data": {
      "text/plain": [
       "\"AI: Hi. Thanks for taking the time to meet with me today. How are you doing?\\nUser: Doing well. How are you?\\nAI: I'm doing great. Thank you for asking. Let's start by having you tell me a bit about yourself, and your background. What led you to apply for a role at Open AI? And what makes you interested? This particular position?\\nUser: Um, well, I think OpenAI is, like, a super cool, really popular company. And it's like the top AI company around. So yeah, I just really wanna work at, like, the top company.\\nAI: That's great to hear.\\nUser: To hear.\\nAI: Working yes. OpenAI is definitely at the cutting edge of AI research. Deployment. Now I'd like to know more about your background and experience. Could you tell me about your relevant engineering experience and how it aligns with the requirements, of the role at Open\\nUser: No. No. No. No. Because before so this is really cool. Before, uh, how do I Stop.\\nAI: No worries.\\nUser: I was gonna say you should do you should alternate between really good answers and really bad answers.\\n\""
      ]
     },
     "execution_count": 13,
     "metadata": {},
     "output_type": "execute_result"
    }
   ],
   "source": [
    "import requests\n",
    "from pprint import pprint \n",
    "\n",
    "call_id = \"c23ee1ec-41bf-4f1c-9900-f764133c02f5\"\n",
    "url = f\"https://api.vapi.ai/call/{call_id}\"\n",
    "headers = {\"Authorization\": f\"Bearer {private_api_key}\"}\n",
    "res = requests.request(\"GET\", url, headers=headers)\n",
    "res.raise_for_status()\n",
    "data = res.json()\n",
    "pprint(data)\n"
   ]
  },
  {
   "cell_type": "code",
   "execution_count": 15,
   "metadata": {},
   "outputs": [
    {
     "name": "stdout",
     "output_type": "stream",
     "text": [
      "AI: Hi. Thanks for taking the time to meet with me today. How are you doing?\n",
      "User: Doing well. How are you?\n",
      "AI: I'm doing great. Thank you for asking. Let's start by having you tell me a bit about yourself, and your background. What led you to apply for a role at Open AI? And what makes you interested? This particular position?\n",
      "User: Um, well, I think OpenAI is, like, a super cool, really popular company. And it's like the top AI company around. So yeah, I just really wanna work at, like, the top company.\n",
      "AI: That's great to hear.\n",
      "User: To hear.\n",
      "AI: Working yes. OpenAI is definitely at the cutting edge of AI research. Deployment. Now I'd like to know more about your background and experience. Could you tell me about your relevant engineering experience and how it aligns with the requirements, of the role at Open\n",
      "User: No. No. No. No. Because before so this is really cool. Before, uh, how do I Stop.\n",
      "AI: No worries.\n",
      "User: I was gonna say you should do you should alternate between really good answers and really bad answers.\n",
      "\n"
     ]
    }
   ],
   "source": [
    "print(data['transcript'])"
   ]
  },
  {
   "cell_type": "code",
   "execution_count": null,
   "metadata": {},
   "outputs": [],
   "source": []
  }
 ],
 "metadata": {
  "kernelspec": {
   "display_name": "Python 3",
   "language": "python",
   "name": "python3"
  },
  "language_info": {
   "codemirror_mode": {
    "name": "ipython",
    "version": 3
   },
   "file_extension": ".py",
   "mimetype": "text/x-python",
   "name": "python",
   "nbconvert_exporter": "python",
   "pygments_lexer": "ipython3",
   "version": "3.10.1"
  }
 },
 "nbformat": 4,
 "nbformat_minor": 2
}
